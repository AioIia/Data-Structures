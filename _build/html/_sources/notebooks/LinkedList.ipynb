{
 "cells": [
  {
   "cell_type": "markdown",
   "metadata": {
    "id": "5vW_ps6ZqZVe"
   },
   "source": [
    "# Linked List"
   ]
  },
  {
   "cell_type": "markdown",
   "metadata": {},
   "source": [
    "## Set Up"
   ]
  },
  {
   "cell_type": "markdown",
   "metadata": {
    "id": "k-sTHlVBhDYd"
   },
   "source": [
    "### Modify sys.path to Import External Modules"
   ]
  },
  {
   "cell_type": "code",
   "execution_count": 16,
   "metadata": {
    "id": "kmVGyNeRhDQ3"
   },
   "outputs": [],
   "source": [
    "import sys\n",
    "sys.path.append(\"CourseFile/\")"
   ]
  },
  {
   "cell_type": "markdown",
   "metadata": {
    "id": "hFrqK5fC550O"
   },
   "source": [
    "### Import the ListNode class from the ListNode.py file"
   ]
  },
  {
   "cell_type": "code",
   "execution_count": 17,
   "metadata": {
    "colab": {
     "base_uri": "https://localhost:8080/"
    },
    "executionInfo": {
     "elapsed": 19,
     "status": "ok",
     "timestamp": 1743495489928,
     "user": {
      "displayName": "Dylan Barros",
      "userId": "15757569917123202873"
     },
     "user_tz": -540
    },
    "id": "FiusF9GQ55iB",
    "outputId": "d3c771af-9535-4b71-d076-485fa9e76033"
   },
   "outputs": [
    {
     "name": "stdout",
     "output_type": "stream",
     "text": [
      "<ListNode.ListNode object at 0x0000022AF8A5F350>\n",
      "5\n",
      "None\n"
     ]
    }
   ],
   "source": [
    "# Import the ListNode class from the ListNode.py file\n",
    "from ListNode import *\n",
    "\n",
    "a = ListNode(data=5, nextNode=None)\n",
    "print(a)\n",
    "print(a.data)\n",
    "print(a.next)"
   ]
  },
  {
   "cell_type": "markdown",
   "metadata": {
    "id": "u2w6sbHgSETA"
   },
   "source": [
    "### Import the SimpleLinkedList class from the SimpleLinkedList.py file"
   ]
  },
  {
   "cell_type": "code",
   "execution_count": 18,
   "metadata": {},
   "outputs": [
    {
     "name": "stdout",
     "output_type": "stream",
     "text": [
      "dummy\n",
      "None\n"
     ]
    }
   ],
   "source": [
    "# Import the SimpleLinkedList class from the SimpleLinkedList.py file\n",
    "from SimpleLinkedList import *\n",
    "\n",
    "a = SimpleLinkedList()\n",
    "print(a.head.data)\n",
    "print(a.head.next)"
   ]
  },
  {
   "cell_type": "markdown",
   "metadata": {
    "id": "MM7nw3cjT8zq"
   },
   "source": [
    "### Import the CircularLinkedList class from the CircularLinkedList.py file"
   ]
  },
  {
   "cell_type": "code",
   "execution_count": 19,
   "metadata": {},
   "outputs": [
    {
     "name": "stdout",
     "output_type": "stream",
     "text": [
      "dummy\n",
      "<ListNode.ListNode object at 0x0000022B9C7A83E0>\n"
     ]
    }
   ],
   "source": [
    "# Import the CircularLinkedList class from the CircularLinkedList.py file\n",
    "from CircularLinkedList import *\n",
    "\n",
    "a = CircularLinkedList()\n",
    "print(a.tail.data)\n",
    "print(a.tail.next)"
   ]
  },
  {
   "cell_type": "markdown",
   "metadata": {},
   "source": [
    "## SimpleLinkedList"
   ]
  },
  {
   "cell_type": "markdown",
   "metadata": {
    "id": "-oBV6Hz8UGgk"
   },
   "source": [
    "### Append, Insert"
   ]
  },
  {
   "cell_type": "code",
   "execution_count": 20,
   "metadata": {
    "colab": {
     "base_uri": "https://localhost:8080/"
    },
    "executionInfo": {
     "elapsed": 33,
     "status": "ok",
     "timestamp": 1743495492484,
     "user": {
      "displayName": "Dylan Barros",
      "userId": "15757569917123202873"
     },
     "user_tz": -540
    },
    "id": "sDlXjSM1RrKH",
    "outputId": "a658bdc0-0086-44b1-87ce-a349e8f3ebe7"
   },
   "outputs": [
    {
     "name": "stdout",
     "output_type": "stream",
     "text": [
      "Elements in the linked list: after adding 5 elements\n",
      "5 4 3 2 1 \n",
      "Elements in the linked list after inserting 10 in index 2: \n",
      "5 4 10 3 2 1 \n"
     ]
    }
   ],
   "source": [
    "from SimpleLinkedList import *\n",
    "a = SimpleLinkedList()\n",
    "print(\"Elements in the linked list: after adding 5 elements\" )\n",
    "a.append(5); a.append(4); a.append(3); a.append(2); a.append(1)\n",
    "a.printList()\n",
    "\n",
    "print(\"Elements in the linked list after inserting 10 in index 2: \" )\n",
    "a.insert(2,10)\n",
    "a.printList()"
   ]
  },
  {
   "cell_type": "markdown",
   "metadata": {
    "id": "vTRTG_FHShW4"
   },
   "source": [
    "### getNode"
   ]
  },
  {
   "cell_type": "code",
   "execution_count": 21,
   "metadata": {
    "colab": {
     "base_uri": "https://localhost:8080/"
    },
    "executionInfo": {
     "elapsed": 51,
     "status": "ok",
     "timestamp": 1743493166642,
     "user": {
      "displayName": "Ewha Biostat",
      "userId": "08955403781798893820"
     },
     "user_tz": -540
    },
    "id": "xvpPQNAbSgxF",
    "outputId": "5d1c64f9-8355-424c-a833-97d98a88fcab"
   },
   "outputs": [
    {
     "name": "stdout",
     "output_type": "stream",
     "text": [
      "Elements in the linked list: \n",
      "5 4 3 2 1 \n",
      "Elements in the linked list: \n",
      "5 4 3 2 1 <SimpleLinkedList.SimpleLinkedList object at 0x0000022B9C798B60> \n",
      "Element in the 3rd index node of the linked list: \n"
     ]
    },
    {
     "data": {
      "text/plain": [
       "2"
      ]
     },
     "execution_count": 21,
     "metadata": {},
     "output_type": "execute_result"
    }
   ],
   "source": [
    "a = SimpleLinkedList()\n",
    "a.append(5); a.append(4); a.append(3); a.append(2); a.append(1)\n",
    "print(\"Elements in the linked list: \" )\n",
    "a.printList()\n",
    "\n",
    "b = SimpleLinkedList()\n",
    "b.append(2); b.append(4); b.append(6); b.append(8); b.append(10)\n",
    "a.append(b)\n",
    "print(\"Elements in the linked list: \" )\n",
    "a.printList()\n",
    "\n",
    "print(\"Element in the 3rd index node of the linked list: \" )\n",
    "b = a.getNode(3)\n",
    "b.data"
   ]
  },
  {
   "cell_type": "markdown",
   "metadata": {
    "id": "2bZNXU1MTAdF"
   },
   "source": [
    "### Remove"
   ]
  },
  {
   "cell_type": "code",
   "execution_count": 22,
   "metadata": {
    "colab": {
     "base_uri": "https://localhost:8080/"
    },
    "executionInfo": {
     "elapsed": 7,
     "status": "ok",
     "timestamp": 1743493276042,
     "user": {
      "displayName": "Ewha Biostat",
      "userId": "08955403781798893820"
     },
     "user_tz": -540
    },
    "id": "ERNl6w-lS_3Q",
    "outputId": "e08fcdc2-de4a-494c-d30c-d5e4c007569a"
   },
   "outputs": [
    {
     "name": "stdout",
     "output_type": "stream",
     "text": [
      "Elements in the linked list: \n",
      "1 9 3 5 7 9 11 \n",
      "Elements in the linked list after removal: \n",
      "1 3 5 7 9 11 \n"
     ]
    }
   ],
   "source": [
    "a = SimpleLinkedList()\n",
    "a.append(1); a.append(3); a.append(5); a.append(7); a.append(11)\n",
    "a.insert(4,9)\n",
    "a.insert(1,9)\n",
    "print(\"Elements in the linked list: \" )\n",
    "a.printList()\n",
    "a.remove(9)\n",
    "print(\"Elements in the linked list after removal: \" )\n",
    "a.printList()"
   ]
  },
  {
   "cell_type": "markdown",
   "metadata": {},
   "source": [
    "## CircularLinkedList"
   ]
  },
  {
   "cell_type": "markdown",
   "metadata": {
    "id": "ie238tVBUAsy"
   },
   "source": [
    "### Append, Insert, getNode"
   ]
  },
  {
   "cell_type": "code",
   "execution_count": 23,
   "metadata": {
    "colab": {
     "base_uri": "https://localhost:8080/"
    },
    "executionInfo": {
     "elapsed": 43,
     "status": "ok",
     "timestamp": 1743496829849,
     "user": {
      "displayName": "Dylan Barros",
      "userId": "15757569917123202873"
     },
     "user_tz": -540
    },
    "id": "wwNFV0N7TNiy",
    "outputId": "9c951a67-8a44-4e82-e5e8-a070787d7043"
   },
   "outputs": [
    {
     "name": "stdout",
     "output_type": "stream",
     "text": [
      "Elements in the linked list: \n",
      "5 4 3 2 1 \n",
      "Elements in the linked list: \n",
      "5 4 3 10 2 1 \n",
      "Element in the 3rd index of the linked list: \n"
     ]
    },
    {
     "data": {
      "text/plain": [
       "10"
      ]
     },
     "execution_count": 23,
     "metadata": {},
     "output_type": "execute_result"
    }
   ],
   "source": [
    "from CircularLinkedList import *\n",
    "a = CircularLinkedList()\n",
    "a.append(5); a.append(4); a.append(3); a.append(2); a.append(1)\n",
    "print(\"Elements in the linked list: \" )\n",
    "a.printList()\n",
    "\n",
    "print(\"Elements in the linked list: \" )\n",
    "a.insert(3,10)\n",
    "a.printList()\n",
    "\n",
    "print(\"Element in the 3rd index of the linked list: \" )\n",
    "b = a.getNode(3)\n",
    "b.data"
   ]
  },
  {
   "cell_type": "markdown",
   "metadata": {
    "id": "ECXmUx_7TmVO"
   },
   "source": [
    "### Pop"
   ]
  },
  {
   "cell_type": "code",
   "execution_count": 24,
   "metadata": {
    "colab": {
     "base_uri": "https://localhost:8080/"
    },
    "executionInfo": {
     "elapsed": 4,
     "status": "ok",
     "timestamp": 1743493429948,
     "user": {
      "displayName": "Ewha Biostat",
      "userId": "08955403781798893820"
     },
     "user_tz": -540
    },
    "id": "EqRfVZcdTmKy",
    "outputId": "5c4e98ad-210c-4920-b3aa-ecb90af0fa2a"
   },
   "outputs": [
    {
     "name": "stdout",
     "output_type": "stream",
     "text": [
      "Elements in the linked list: \n",
      "5 4 3 2 1 \n",
      "Remove an element in the 4th index:  1\n",
      "Element in the linked list after removal of 4th index: \n",
      "5 4 3 2 \n"
     ]
    }
   ],
   "source": [
    "a = CircularLinkedList()\n",
    "a.append(5); a.append(4); a.append(3); a.append(2); a.append(1)\n",
    "print(\"Elements in the linked list: \" )\n",
    "a.printList()\n",
    "print(\"Remove an element in the 4th index: \", a.pop(4) )\n",
    "print(\"Element in the linked list after removal of 4th index: \" )\n",
    "a.printList()"
   ]
  },
  {
   "cell_type": "markdown",
   "metadata": {
    "id": "IV3CcychTso6"
   },
   "source": [
    "### Get"
   ]
  },
  {
   "cell_type": "code",
   "execution_count": 25,
   "metadata": {
    "colab": {
     "base_uri": "https://localhost:8080/"
    },
    "executionInfo": {
     "elapsed": 5,
     "status": "ok",
     "timestamp": 1743493453748,
     "user": {
      "displayName": "Ewha Biostat",
      "userId": "08955403781798893820"
     },
     "user_tz": -540
    },
    "id": "Famf5ntbTsdH",
    "outputId": "3e12ac1e-619a-4a86-bf6f-37404bfa6a71"
   },
   "outputs": [
    {
     "name": "stdout",
     "output_type": "stream",
     "text": [
      "Elements in the linked list: \n",
      "5 4 3 2 1 \n",
      "Get an element in the 4th index:  1\n",
      "Element in the linked list after using get: \n",
      "5 4 3 2 1 \n"
     ]
    }
   ],
   "source": [
    "a = CircularLinkedList()\n",
    "a.append(5); a.append(4); a.append(3); a.append(2); a.append(1)\n",
    "print(\"Elements in the linked list: \" )\n",
    "a.printList()\n",
    "print(\"Get an element in the 4th index: \", a.get(4) )\n",
    "print(\"Element in the linked list after using get: \" )\n",
    "a.printList()"
   ]
  },
  {
   "cell_type": "markdown",
   "metadata": {},
   "source": [
    "## New Exercise"
   ]
  },
  {
   "cell_type": "markdown",
   "metadata": {},
   "source": [
    "Write a function `detectCycle(L)` that takes a linked list as input and returns True if the list contains a cycle, and False otherwise."
   ]
  },
  {
   "cell_type": "code",
   "execution_count": 26,
   "metadata": {},
   "outputs": [
    {
     "name": "stdout",
     "output_type": "stream",
     "text": [
      "1 2 3 4 5 \n",
      "True\n",
      "True\n"
     ]
    }
   ],
   "source": [
    "def detectCycle(L):\n",
    "    return True\n",
    "\n",
    "a = SimpleLinkedList(); a.append(1); a.append(2); a.append(3); a.append(4); a.append(5)\n",
    "a.printList()\n",
    "\n",
    "print(detectCycle(a))\n",
    "a.getNode(4).next = a.getNode(2)\n",
    "print(detectCycle(a))"
   ]
  },
  {
   "cell_type": "markdown",
   "metadata": {},
   "source": [
    "### Solution"
   ]
  },
  {
   "cell_type": "code",
   "execution_count": 27,
   "metadata": {},
   "outputs": [
    {
     "name": "stdout",
     "output_type": "stream",
     "text": [
      "1 2 3 4 5 \n",
      "False\n",
      "True\n"
     ]
    }
   ],
   "source": [
    "def detectCycle(L):\n",
    "    if not L or not L.head.next:\n",
    "        return False\n",
    "\n",
    "    slow = L.head\n",
    "    fast = L.head.next\n",
    "\n",
    "    while fast and fast.next and slow != fast:\n",
    "        slow = slow.next\n",
    "        fast = fast.next.next\n",
    "\n",
    "    return slow == fast\n",
    "\n",
    "a = SimpleLinkedList(); a.append(1); a.append(2); a.append(3); a.append(4); a.append(5)\n",
    "a.printList()\n",
    "\n",
    "print(detectCycle(a))\n",
    "a.getNode(4).next = a.getNode(2)\n",
    "print(detectCycle(a))"
   ]
  }
 ],
 "metadata": {
  "colab": {
   "provenance": []
  },
  "kernelspec": {
   "display_name": "Python 3",
   "name": "python3"
  },
  "language_info": {
   "codemirror_mode": {
    "name": "ipython",
    "version": 3
   },
   "file_extension": ".py",
   "mimetype": "text/x-python",
   "name": "python",
   "nbconvert_exporter": "python",
   "pygments_lexer": "ipython3",
   "version": "3.12.9"
  }
 },
 "nbformat": 4,
 "nbformat_minor": 0
}
