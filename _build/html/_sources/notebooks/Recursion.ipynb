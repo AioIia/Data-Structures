{
 "cells": [
  {
   "cell_type": "markdown",
   "metadata": {
    "id": "5vW_ps6ZqZVe"
   },
   "source": [
    "# Recursion"
   ]
  },
  {
   "cell_type": "markdown",
   "metadata": {},
   "source": [
    "## Set Up"
   ]
  },
  {
   "cell_type": "markdown",
   "metadata": {
    "id": "k-sTHlVBhDYd"
   },
   "source": [
    "### Modify sys.path to Import External Modules"
   ]
  },
  {
   "cell_type": "code",
   "execution_count": 78,
   "metadata": {
    "id": "kmVGyNeRhDQ3"
   },
   "outputs": [],
   "source": [
    "import sys\n",
    "sys.path.append(\"CourseFile/\")"
   ]
  },
  {
   "cell_type": "markdown",
   "metadata": {},
   "source": [
    "## Examples"
   ]
  },
  {
   "cell_type": "markdown",
   "metadata": {
    "id": "p3b3bDBni-gY"
   },
   "source": [
    "### Example 1: Fibonacci\n",
    "\n",
    "In the lecture, we showed the time complexity of the below algorithm for Fibonacci series is $O(2^n)$. In similar way, find Big Omega $\\Omega(\\cdot)$ of this algorithm.\n"
   ]
  },
  {
   "cell_type": "code",
   "execution_count": 79,
   "metadata": {
    "id": "9ppWH1oJnAxE"
   },
   "outputs": [],
   "source": [
    "# Recursion\n",
    "def fib_recursive(n):\n",
    "  if n < 0:\n",
    "    print(\"Incorrect input\")\n",
    "  elif n == 0:\n",
    "    return 0\n",
    "  elif n == 1 or n == 2:\n",
    "    return 1\n",
    "  else:\n",
    "    return fib_recursive(n-1)+fib_recursive(n-2)\n"
   ]
  },
  {
   "cell_type": "markdown",
   "metadata": {
    "id": "P7nEIrGInrC2"
   },
   "source": [
    "### Example 2: Factorial\n",
    "\n",
    "* Write functions that calculates the factorial of n (i.e., n!)\n",
    "  - Approach 1: Using For loop\n",
    "  - Approach 2: Using Recursive algorithm\n",
    "\n",
    "$$\n",
    "\\begin{align*}\n",
    "n!=\n",
    "\\begin{cases}\n",
    "  1 & \\text{if $n < 1$}\\\\\n",
    "  n*(n-1)! & \\text{if $n \\ge 1$}\n",
    "\\end{cases}    \n",
    "\\end{align*}\n",
    "$$\n",
    "\n",
    "* Time complexity analysis\n",
    "  - Provide comparison of both practical (e.g. for n=600) and theoretical time complexity analysis for each approach"
   ]
  },
  {
   "cell_type": "markdown",
   "metadata": {},
   "source": [
    "#### Solution"
   ]
  },
  {
   "cell_type": "code",
   "execution_count": 80,
   "metadata": {
    "colab": {
     "base_uri": "https://localhost:8080/"
    },
    "executionInfo": {
     "elapsed": 29,
     "status": "ok",
     "timestamp": 1742299479330,
     "user": {
      "displayName": "Dylan Barros",
      "userId": "15757569917123202873"
     },
     "user_tz": -540
    },
    "id": "P0NSbGtdnrSm",
    "outputId": "b76392ce-4243-4f73-a0dc-c06dcbe918ff"
   },
   "outputs": [
    {
     "name": "stdout",
     "output_type": "stream",
     "text": [
      "Time for iterative approach: 0.0 minutes\n",
      "Time for recursive approach: 0.0 minutes\n"
     ]
    }
   ],
   "source": [
    "def factorial_for(num):\n",
    "  if num < 0:\n",
    "    raise(Exception(\"negatif\"))\n",
    "  res = 1\n",
    "  for i in range(2, num + 1):\n",
    "      res *= i\n",
    "  return res\n",
    "\n",
    "\n",
    "def factorial_recursive(num):\n",
    "  if num < 0:\n",
    "    raise(Exception(\"negatif\"))\n",
    "  return __factorial_recursive(num)\n",
    "\n",
    "def __factorial_recursive(num):\n",
    "  if num < 1:\n",
    "    return 1\n",
    "  return num * __factorial_recursive(num-1)\n",
    "\n",
    "\n",
    "import time\n",
    "start_time = time.time()\n",
    "factorial_for(600)\n",
    "time_for = time.time() - start_time\n",
    "\n",
    "start_time = time.time()\n",
    "factorial_recursive(600)\n",
    "time_recursive = time.time() - start_time\n",
    "\n",
    "print(\"Time for iterative approach:\", round(time_for, 4), \"minutes\")\n",
    "print(\"Time for recursive approach:\", round(time_recursive, 4), \"minutes\")"
   ]
  },
  {
   "cell_type": "markdown",
   "metadata": {
    "id": "tuQ1MsZFg9Zv"
   },
   "source": [
    "### Example 3: Gugu-dan\n",
    "\n",
    "We can write an iterative algorithm that prints out a multiplication table (i.e., gugu-dan) as below. Write a recursive algorithm for the gugu-dan. For example, 'Table of 3' should print the following. What is the Big O of the gugu-dan algorithms?"
   ]
  },
  {
   "cell_type": "markdown",
   "metadata": {},
   "source": [
    "#### Solution"
   ]
  },
  {
   "cell_type": "code",
   "execution_count": 81,
   "metadata": {
    "colab": {
     "base_uri": "https://localhost:8080/"
    },
    "executionInfo": {
     "elapsed": 14,
     "status": "ok",
     "timestamp": 1742299360684,
     "user": {
      "displayName": "Dylan Barros",
      "userId": "15757569917123202873"
     },
     "user_tz": -540
    },
    "id": "CjEEiGleg9Cz",
    "outputId": "976c808b-9d01-43cb-d085-79dadd880be6"
   },
   "outputs": [
    {
     "name": "stdout",
     "output_type": "stream",
     "text": [
      "3 x 1 = 3\n",
      "3 x 2 = 6\n",
      "3 x 3 = 9\n",
      "3 x 4 = 12\n",
      "3 x 5 = 15\n",
      "3 x 6 = 18\n",
      "3 x 7 = 21\n",
      "3 x 8 = 24\n",
      "3 x 9 = 27\n",
      "\n",
      "3 x 1 = 3\n",
      "3 x 2 = 6\n",
      "3 x 3 = 9\n",
      "3 x 4 = 12\n",
      "3 x 5 = 15\n",
      "3 x 6 = 18\n",
      "3 x 7 = 21\n",
      "3 x 8 = 24\n",
      "3 x 9 = 27\n"
     ]
    }
   ],
   "source": [
    "# Iterative\n",
    "def gugu_iterative(dan):\n",
    "    for num in range(1, 10):\n",
    "        print(\"%d x %d = %d\" % (dan, num, dan * num))\n",
    "\n",
    "# Recursive\n",
    "def gugu_recursive(dan, num=1) :\n",
    "    if num > 9:\n",
    "        return\n",
    "    print(f\"{dan} x {num} = {dan * num}\")\n",
    "    gugu_recursive(dan, num + 1)\n",
    "\n",
    "gugu_iterative(3)\n",
    "print()\n",
    "gugu_recursive(3)"
   ]
  },
  {
   "cell_type": "markdown",
   "metadata": {
    "id": "SBfIECpvjkMD"
   },
   "source": [
    "### Example 4: Fibonacci O(n)\n",
    "\n",
    "Can you write an algorithm for the Fibonacci series with a time complexity of $O(n)$ instead of $O(2^n)$? For example, Fibonacci sequence up to the 10th term (index 0 to 10) is $[0, 1, 1, 2, 3, 5, 8, 13, 21, 34, 55]$,\n",
    "\n",
    "Hint: [Helpful resource](https://chanos.tistory.com/entry/%EC%9E%90%EB%A3%8C%EA%B5%AC%EC%A1%B0-%ED%94%BC%EB%B3%B4%EB%82%98%EC%B9%98-%EC%88%98%EC%97%B4%EC%9D%98-%EC%8B%9C%EA%B0%84-%EB%B3%B5%EC%9E%A1%EB%8F%84-%EC%99%84%EB%B2%BD%ED%9E%88-%EC%9D%B4%ED%95%B4%ED%95%98%EA%B8%B0)"
   ]
  },
  {
   "cell_type": "markdown",
   "metadata": {},
   "source": [
    "#### Solution"
   ]
  },
  {
   "cell_type": "code",
   "execution_count": 82,
   "metadata": {
    "colab": {
     "base_uri": "https://localhost:8080/"
    },
    "executionInfo": {
     "elapsed": 18,
     "status": "ok",
     "timestamp": 1742299406136,
     "user": {
      "displayName": "Dylan Barros",
      "userId": "15757569917123202873"
     },
     "user_tz": -540
    },
    "id": "VRDORBsIjj3O",
    "outputId": "45012d56-9420-4adc-f949-1f3e02d6f33f"
   },
   "outputs": [
    {
     "name": "stdout",
     "output_type": "stream",
     "text": [
      "fib_recursive: 55\n",
      "fib_recursive2: 55\n"
     ]
    }
   ],
   "source": [
    "def fib_recursive2(n, initial_values=[0, 1]):\n",
    "  if n < 0:\n",
    "    raise(Exception(\"negatif\"))\n",
    "  elif n < 2:\n",
    "    return initial_values[n]\n",
    "  return __fib_recursive2(n, initial_values)\n",
    "\n",
    "def __fib_recursive2(n, values):\n",
    "  if n < 2:\n",
    "    return values[-1]\n",
    "  values.append(values[-1] + values[-2])\n",
    "  return __fib_recursive2(n-1, values)\n",
    "\n",
    "\n",
    "print(\"fib_recursive:\", fib_recursive(10))\n",
    "print(\"fib_recursive2:\", fib_recursive2(10))"
   ]
  },
  {
   "cell_type": "markdown",
   "metadata": {},
   "source": [
    "### New Exercise"
   ]
  },
  {
   "cell_type": "markdown",
   "metadata": {},
   "source": [
    "Write a function `max_consecutive_sum(L, k)` that takes a list `L` of integers and an integer `k`, and returns the maximum sum of any `k` consecutive elements in the list, with `len(L)` >= `k` >= 1.\n",
    "\n",
    "\\>\\>\\> `max_consecutive_sum([1, 2, 3, 4, 5], 2)`\n",
    "\n",
    "`9`\n",
    "\n",
    "\\>\\>\\> `max_consecutive_sum([5, -1, 3, -2, 4, 1], 3)`\n",
    "\n",
    "`7`\n",
    "\n",
    "\\>\\>\\> `max_consecutive_sum([1, 1, 1, 1], 4)`\n",
    "\n",
    "`4`"
   ]
  },
  {
   "cell_type": "code",
   "execution_count": 83,
   "metadata": {},
   "outputs": [
    {
     "name": "stdout",
     "output_type": "stream",
     "text": [
      "0\n",
      "0\n",
      "0\n"
     ]
    }
   ],
   "source": [
    "def max_consecutive_sum(L, k):\n",
    "    return 0\n",
    "\n",
    "\n",
    "print(max_consecutive_sum([1, 2, 3, 4, 5], 2))\n",
    "print(max_consecutive_sum([5, -1, 3, -2, 4, 1], 3))\n",
    "print(max_consecutive_sum([1, 1, 1, 1], 4))"
   ]
  },
  {
   "cell_type": "markdown",
   "metadata": {},
   "source": [
    "#### Solution"
   ]
  },
  {
   "cell_type": "code",
   "execution_count": 84,
   "metadata": {},
   "outputs": [
    {
     "name": "stdout",
     "output_type": "stream",
     "text": [
      "9\n",
      "7\n",
      "4\n"
     ]
    }
   ],
   "source": [
    "def max_consecutive_sum(L, k):\n",
    "    if len(L) < k:\n",
    "        return 0\n",
    "\n",
    "    current_sum = sum(L[:k])\n",
    "\n",
    "    rest_max = max_consecutive_sum(L[1:], k)\n",
    "\n",
    "    return max(current_sum, rest_max)\n",
    "\n",
    "\n",
    "print(max_consecutive_sum([1, 2, 3, 4, 5], 2))\n",
    "print(max_consecutive_sum([5, -1, 3, -2, 4, 1], 3))\n",
    "print(max_consecutive_sum([1, 1, 1, 1], 4))\n",
    "\n"
   ]
  }
 ],
 "metadata": {
  "colab": {
   "provenance": []
  },
  "kernelspec": {
   "display_name": "Python 3",
   "name": "python3"
  },
  "language_info": {
   "codemirror_mode": {
    "name": "ipython",
    "version": 3
   },
   "file_extension": ".py",
   "mimetype": "text/x-python",
   "name": "python",
   "nbconvert_exporter": "python",
   "pygments_lexer": "ipython3",
   "version": "3.12.9"
  }
 },
 "nbformat": 4,
 "nbformat_minor": 0
}
