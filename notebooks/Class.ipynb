{
 "cells": [
  {
   "cell_type": "markdown",
   "metadata": {
    "id": "5vW_ps6ZqZVe"
   },
   "source": [
    "# Class"
   ]
  },
  {
   "cell_type": "markdown",
   "metadata": {},
   "source": [
    "\n",
    "## Set Up"
   ]
  },
  {
   "cell_type": "markdown",
   "metadata": {
    "id": "k-sTHlVBhDYd"
   },
   "source": [
    "### Modify sys.path to Import External Modules"
   ]
  },
  {
   "cell_type": "code",
   "execution_count": 109,
   "metadata": {
    "executionInfo": {
     "elapsed": 42,
     "status": "ok",
     "timestamp": 1742299791316,
     "user": {
      "displayName": "Dylan Barros",
      "userId": "15757569917123202873"
     },
     "user_tz": -540
    },
    "id": "kmVGyNeRhDQ3"
   },
   "outputs": [],
   "source": [
    "import sys\n",
    "sys.path.append(\"CourseFile/\")"
   ]
  },
  {
   "cell_type": "markdown",
   "metadata": {
    "id": "p3b3bDBni-gY"
   },
   "source": [
    "## Module and Package"
   ]
  },
  {
   "cell_type": "code",
   "execution_count": 110,
   "metadata": {
    "id": "9ppWH1oJnAxE",
    "outputId": "d4e4be51-844b-4c2f-aa10-0aa0f767d0e3"
   },
   "outputs": [
    {
     "data": {
      "text/plain": [
       "4"
      ]
     },
     "execution_count": 110,
     "metadata": {},
     "output_type": "execute_result"
    }
   ],
   "source": [
    "# List\n",
    "my_list = [1, 2, 3, 4, 5]\n",
    "my_list[3]"
   ]
  },
  {
   "cell_type": "markdown",
   "metadata": {
    "id": "P7nEIrGInrC2"
   },
   "source": [
    "### Module\n",
    "\n"
   ]
  },
  {
   "cell_type": "code",
   "execution_count": 111,
   "metadata": {
    "colab": {
     "base_uri": "https://localhost:8080/"
    },
    "executionInfo": {
     "elapsed": 341,
     "status": "ok",
     "timestamp": 1742299793161,
     "user": {
      "displayName": "Dylan Barros",
      "userId": "15757569917123202873"
     },
     "user_tz": -540
    },
    "id": "P0NSbGtdnrSm",
    "outputId": "390451d8-a1cd-4607-8ca1-6d51e2a2e9bc"
   },
   "outputs": [
    {
     "name": "stdout",
     "output_type": "stream",
     "text": [
      "Original array: [1 2 3 4 5]\n",
      "After insertion: [1 2 3 4 5 6]\n",
      "Element found at position: 4\n",
      "After removal: [1 2 3 4 6]\n"
     ]
    },
    {
     "data": {
      "text/plain": [
       "2"
      ]
     },
     "execution_count": 111,
     "metadata": {},
     "output_type": "execute_result"
    }
   ],
   "source": [
    "# Import the Array class from the Array.py file\n",
    "  # from Array import *\n",
    "from Array import MyArray\n",
    "\n",
    "# Create an instance of the Array class\n",
    "arr = MyArray([1, 2, 3, 4, 5])\n",
    "\n",
    "# Print the original array\n",
    "print(\"Original array:\", arr.array)\n",
    "\n",
    "# Insert 6 at the last index (after the last element)\n",
    "arr.myInsert(6, len(arr.array))  # Inserts 6 at the end\n",
    "print(\"After insertion:\", arr.array)\n",
    "\n",
    "# Remove element 5 from the array\n",
    "arr.myRemove(5)  # Removes element 5 from the array\n",
    "print(\"After removal:\", arr.array)\n",
    "\n",
    "# Find index for element 3\n",
    "arr.myIndex(3)"
   ]
  },
  {
   "cell_type": "markdown",
   "metadata": {
    "id": "tuQ1MsZFg9Zv"
   },
   "source": [
    "### Package\n",
    "\n",
    "1. Create `DataStructureCode/` folder.\n",
    "2. Then, create an empty `__init__.py` file inside the `DataStructureCode/` folder. This file is required for the folder to be recognized as a package.\n",
    "3. Copy and paste `Array.py` file inside of `DataStructureCode/` folder."
   ]
  },
  {
   "cell_type": "code",
   "execution_count": 112,
   "metadata": {
    "colab": {
     "base_uri": "https://localhost:8080/"
    },
    "executionInfo": {
     "elapsed": 43,
     "status": "ok",
     "timestamp": 1741601608574,
     "user": {
      "displayName": "Ewha Biostat",
      "userId": "08955403781798893820"
     },
     "user_tz": -540
    },
    "id": "CjEEiGleg9Cz",
    "outputId": "fad713b2-2a3c-4cab-e927-0ad6dd953889"
   },
   "outputs": [
    {
     "name": "stdout",
     "output_type": "stream",
     "text": [
      "Original array: [1 2 3 4 5]\n"
     ]
    }
   ],
   "source": [
    "from Array import MyArray\n",
    "\n",
    "arr = MyArray([1, 2, 3, 4, 5])\n",
    "print(\"Original array:\", arr.array)"
   ]
  },
  {
   "cell_type": "markdown",
   "metadata": {
    "id": "kDHkYgdXjDxa"
   },
   "source": [
    "## Exercise"
   ]
  },
  {
   "cell_type": "markdown",
   "metadata": {},
   "source": [
    "### Attendance"
   ]
  },
  {
   "cell_type": "code",
   "execution_count": 113,
   "metadata": {
    "colab": {
     "base_uri": "https://localhost:8080/"
    },
    "executionInfo": {
     "elapsed": 5,
     "status": "ok",
     "timestamp": 1741603612919,
     "user": {
      "displayName": "Ewha Biostat",
      "userId": "08955403781798893820"
     },
     "user_tz": -540
    },
    "id": "MiSY2Nv0nCsd",
    "outputId": "b4ff771b-3b06-460e-c035-712b65632271"
   },
   "outputs": [
    {
     "name": "stdout",
     "output_type": "stream",
     "text": [
      "2025-03-10\n",
      "1\n",
      "[{'date': '2025-03-10', 'status': 1}]\n",
      "[{'date': '2025-03-10', 'status': 1}, {'date': '2025-03-15', 'status': 0}]\n"
     ]
    }
   ],
   "source": [
    "# Dictionary\n",
    "attendance = {\"date\": \"2025-03-10\", \"status\": 1}\n",
    "print(attendance[\"date\"])\n",
    "print(attendance[\"status\"])\n",
    "\n",
    "my_attendance = []\n",
    "my_attendance.append(attendance)\n",
    "print(my_attendance)\n",
    "my_attendance.append({\"date\": \"2025-03-15\", \"status\": 0})\n",
    "print(my_attendance)"
   ]
  },
  {
   "cell_type": "code",
   "execution_count": 114,
   "metadata": {
    "colab": {
     "base_uri": "https://localhost:8080/"
    },
    "executionInfo": {
     "elapsed": 32,
     "status": "ok",
     "timestamp": 1742299805671,
     "user": {
      "displayName": "Dylan Barros",
      "userId": "15757569917123202873"
     },
     "user_tz": -540
    },
    "id": "DTflPY-3jhby",
    "outputId": "3f4f24b1-dbbc-4ba9-b545-f3eb17dd74c2"
   },
   "outputs": [
    {
     "name": "stdout",
     "output_type": "stream",
     "text": [
      "Attendance for Ewha Kim:\n",
      "Date: 11/03, Status: Present\n",
      "Date: 18/03, Status: Absent\n",
      "\n",
      "Error:Date 12/03 not found\n",
      "\n",
      "Attendance for Ewha Kim:\n",
      "Date: 11/03, Status: Present\n",
      "Date: 18/03, Status: Present\n",
      "\n",
      "ID= 123456 , Name =  Ewha Kim , Department =  AI , Attendance =  [{'date': '11/03', 'status': 1}, {'date': '18/03', 'status': 1}]\n"
     ]
    }
   ],
   "source": [
    "class Attendance:\n",
    "  def __init__(self, id, name, department,attendance):\n",
    "    self.id = id\n",
    "    self.name = name\n",
    "    self.department = department\n",
    "    self.attendance = attendance\n",
    "\n",
    "\n",
    "  def mark_attendance(self, date, status):\n",
    "    self.attendance.append({\"date\": date, \"status\": status})\n",
    "\n",
    "\n",
    "  def view_attendance(self):\n",
    "    print(f\"Attendance for {self.name}:\")\n",
    "    for attendance in self.attendance:\n",
    "      status = \"\"\n",
    "      if attendance[\"status\"] == 0:\n",
    "        status = \"Absent\"\n",
    "      else:\n",
    "        status = \"Present\"\n",
    "\n",
    "      print(f\"Date: {attendance['date']}, Status: {status}\")\n",
    "    print()\n",
    "\n",
    "\n",
    "  def updates_attendance(self, date, status):\n",
    "    i, n = 0, len(self.attendance)\n",
    "    while i<n and date != self.attendance[i][\"date\"]:\n",
    "      i+=1\n",
    "    if i < n:\n",
    "      self.attendance[i][\"status\"] = status\n",
    "    else:\n",
    "      print(f\"Error:Date {date} not found\")\n",
    "      print()\n",
    "\n",
    "\n",
    "### test\n",
    "person1 = Attendance(123456,\"Ewha Kim\",\"AI\",[])\n",
    "\n",
    "person1.mark_attendance(\"11/03\", 1)\n",
    "person1.mark_attendance(\"18/03\", 0)\n",
    "person1.view_attendance()\n",
    "\n",
    "person1.updates_attendance(\"12/03\", 1)\n",
    "person1.updates_attendance(\"18/03\", 1)\n",
    "person1.view_attendance()\n",
    "print(\"ID=\", person1.id, \", Name = \",person1.name, \", Department = \", person1.department,\", Attendance = \",person1.attendance)"
   ]
  },
  {
   "cell_type": "markdown",
   "metadata": {
    "id": "zOSBiva5qKC_"
   },
   "source": [
    "1. Add a method `mark_attendance(date, status)` that allows the recording of attendance for a particular date. The status should be either: `1` for present and `0` for absent.\n",
    "\n",
    "2. Add a method `view_attendance()` that prints out the attendance record for the student. The output should display each entry with the date and the attendance status (Present/Absent).\n",
    "\n",
    "3. Add a method `update_attendance(date, status)` that updates the attendance record for a specific date. If the given date is not found in the records, return a message indicating that the date is not found.\n"
   ]
  },
  {
   "cell_type": "markdown",
   "metadata": {},
   "source": [
    "### New Exercise"
   ]
  },
  {
   "cell_type": "markdown",
   "metadata": {},
   "source": [
    "Create a class `Library` to model a library system.\n",
    "\n",
    "`add_book(self, title, author, copies):`\n",
    "Adds a book to the library. If the book already exists, the method should increase the number of copies.\n",
    "\n",
    "`borrow_book(self, title):`\n",
    "This method should allow a user to borrow a book. If the book is not available, return False otherwise return True.\n",
    "\n",
    "`search_books(self, search_term):`\n",
    "This method should search for books by their title or author. It should return a list of books that match the search term.\n",
    "\n",
    "The books should be like this: `[{'title': '', 'author': '', 'copies': }]`"
   ]
  },
  {
   "cell_type": "code",
   "execution_count": 115,
   "metadata": {},
   "outputs": [],
   "source": [
    "class Library:\n",
    "    def __init__(self, name):\n",
    "        self.name = name\n",
    "        self.books = []\n",
    "\n",
    "    def add_book(self, title, author, copies):\n",
    "        pass\n",
    "\n",
    "    def borrow_book(self, title):\n",
    "        pass\n",
    "\n",
    "    def search_books(self, search_term):\n",
    "        pass\n",
    "\n",
    "\n",
    "library = Library(\"Bibliothèque des Pléiades\")\n",
    "\n",
    "library.add_book(\"Re:Zero\", \"Tappei Nagatsuki\", 5)\n",
    "library.add_book(\"Makeine: Too Many Losing Heroines!\", \"Takibi Amamori\", 2)\n",
    "library.add_book(\"Tomodachi Game\", \"Mikoto Yamaguchi\", 3)\n",
    "library.add_book(\"Summer Time Rendering\", \"Yasuki Tanaka\", 4)\n",
    "library.add_book(\"Go-Toubun no Hanayome\", \"Negi Haruba\", 6)\n",
    "\n",
    "library.borrow_book(\"Makeine: Too Many Losing Heroines!\")\n",
    "library.borrow_book(\"Makeine: Too Many Losing Heroines!\")\n",
    "library.borrow_book(\"Tomodachi Game\")\n",
    "library.borrow_book(\"Summer Time Rendering\")\n",
    "library.borrow_book(\"Re:Zero\")\n"
   ]
  },
  {
   "cell_type": "markdown",
   "metadata": {},
   "source": [
    "#### Solution"
   ]
  },
  {
   "cell_type": "code",
   "execution_count": 116,
   "metadata": {},
   "outputs": [
    {
     "name": "stdout",
     "output_type": "stream",
     "text": [
      "[{'title': 'Makeine: Too Many Losing Heroines!', 'author': 'Takibi Amamori', 'copies': 2, 'description': \"Kazuhiko finds himself caught in a bizarre romantic comedy where all the girls around him are doomed to be 'losing heroines' in love.\"}]\n",
      "[{'title': 'Re:Zero', 'author': 'Tappei Nagatsuki', 'copies': 5, 'description': 'Subaru is suddenly transported to a fantasy world where he discovers a terrifying power: every time he dies, he returns to a specific point in time.'}]\n"
     ]
    },
    {
     "data": {
      "text/plain": [
       "True"
      ]
     },
     "execution_count": 116,
     "metadata": {},
     "output_type": "execute_result"
    }
   ],
   "source": [
    "class Library:\n",
    "    def __init__(self, name):\n",
    "        self.name = name\n",
    "        self.books = []\n",
    "\n",
    "    def add_book(self, title, author, copies, description=\"No description available\"):\n",
    "        for book in self.books:\n",
    "            if book['title'].lower() == title.lower() and book['author'].lower() == author.lower():\n",
    "                book['copies'] += copies\n",
    "                return\n",
    "        self.books.append({\n",
    "            'title': title,\n",
    "            'author': author,\n",
    "            'copies': copies,\n",
    "            'description': description\n",
    "        })\n",
    "\n",
    "    def borrow_book(self, title):\n",
    "        for book in self.books:\n",
    "            if book['title'].lower() == title.lower():\n",
    "                if book['copies'] > 0:\n",
    "                    book['copies'] -= 1\n",
    "                    return True\n",
    "                else:\n",
    "                    return False\n",
    "        return False\n",
    "\n",
    "    def search_books(self, search_term):\n",
    "        search_term = search_term.lower()\n",
    "        results = []\n",
    "        for book in self.books:\n",
    "            if search_term in book['title'].lower() or search_term in book['author'].lower():\n",
    "                results.append(book)\n",
    "        return results\n",
    "    \n",
    "\n",
    "library = Library(\"Bibliothèque des Pléiades\")\n",
    "\n",
    "library.add_book(\"Re:Zero\", \"Tappei Nagatsuki\", 5, \"Subaru is suddenly transported to a fantasy world where he discovers a terrifying power: every time he dies, he returns to a specific point in time.\")\n",
    "library.add_book(\"Makeine: Too Many Losing Heroines!\", \"Takibi Amamori\", 2, \"Kazuhiko finds himself caught in a bizarre romantic comedy where all the girls around him are doomed to be 'losing heroines' in love.\")\n",
    "library.add_book(\"Tomodachi Game\", \"Mikoto Yamaguchi\", 3, \"Yuuichi and his friends are thrown into a mysterious game that tests the strength of their bonds through deception, betrayal, and money.\")\n",
    "library.add_book(\"Summer Time Rendering\", \"Yasuki Tanaka\", 4, \"Shinpei returns to his island hometown for a friend’s funeral, only to discover dark forces at play and a time loop that could change everything.\")\n",
    "library.add_book(\"Go-Toubun no Hanayome\", \"Negi Haruba\", 6, \"Fuutarou, a top student, becomes the private tutor of five wealthy quintuplets who all hate studying — and might just fall in love with him.\")\n",
    "\n",
    "\n",
    "\n",
    "print(library.search_books(\"Makeine\"))\n",
    "print(library.search_books(\"Re:Zero\"))\n",
    "\n",
    "library.borrow_book(\"Makeine: Too Many Losing Heroines!\")\n",
    "library.borrow_book(\"Makeine: Too Many Losing Heroines!\")\n",
    "library.borrow_book(\"Tomodachi Game\")\n",
    "library.borrow_book(\"Summer Time Rendering\")\n",
    "library.borrow_book(\"Re:Zero\")"
   ]
  },
  {
   "cell_type": "markdown",
   "metadata": {},
   "source": [
    "#### Visualization"
   ]
  },
  {
   "cell_type": "code",
   "execution_count": null,
   "metadata": {},
   "outputs": [
    {
     "data": {
      "text/html": [
       "\n",
       "    <div style='font-family: \"Roboto\", sans-serif; background-color: #f5f5f5; padding: 20px; border-radius: 8px; max-width: 1200px; margin: 0 auto;'>\n",
       "        <link href=\"https://fonts.googleapis.com/css2?family=Playfair+Display:wght@600&family=Roboto&display=swap\" rel=\"stylesheet\">\n",
       "\n",
       "        <h1 style='font-family: \"Playfair Display\", serif; color:#1e3d59; text-align: center; margin-bottom: 25px; font-size: 36px;'>📚 Bibliothèque des Pléiades</h1>\n",
       "\n",
       "        <style>\n",
       "            .book-wrapper {\n",
       "                display: inline-block;\n",
       "                margin: 15px;\n",
       "                vertical-align: top;\n",
       "            }\n",
       "\n",
       "            .book-card {\n",
       "                position: relative;\n",
       "                height: 300px;\n",
       "                width: 350px;\n",
       "                transform-origin: center center;\n",
       "                transition: all 0.3s ease;\n",
       "                cursor: pointer;\n",
       "            }\n",
       "\n",
       "            .book-wrapper:hover .book-card {\n",
       "                transform: translateY(-8px);\n",
       "            }\n",
       "\n",
       "            .book-inner {\n",
       "                position: relative;\n",
       "                width: 100%;\n",
       "                height: 100%;\n",
       "                transition: transform 0.8s;\n",
       "                transform-style: preserve-3d;\n",
       "            }\n",
       "\n",
       "            .book-wrapper.flipped .book-inner {\n",
       "                transform: rotateY(180deg);\n",
       "            }\n",
       "\n",
       "            .book-front, .book-back {\n",
       "                position: absolute;\n",
       "                width: 100%;\n",
       "                height: 100%;\n",
       "                top: 0;\n",
       "                left: 0;\n",
       "                border-radius: 12px;\n",
       "                backface-visibility: hidden;\n",
       "                box-shadow: 0 4px 8px rgba(0, 0, 0, 0.05);\n",
       "                font-family: \"Roboto\", sans-serif;\n",
       "            }\n",
       "\n",
       "            .book-wrapper:hover .book-front,\n",
       "            .book-wrapper:hover .book-back {\n",
       "                box-shadow: 0 12px 20px rgba(0, 0, 0, 0.15);\n",
       "            }\n",
       "\n",
       "            .book-back {\n",
       "                transform: rotateY(180deg);\n",
       "                padding: 15px 20px;\n",
       "                overflow-y: auto;\n",
       "            }\n",
       "\n",
       "            .book-3d-container {\n",
       "                perspective: 1000px;\n",
       "            }\n",
       "        </style>\n",
       "        <script>\n",
       "            function toggleFlip(id) {\n",
       "                document.getElementById(id).classList.toggle('flipped');\n",
       "            }\n",
       "        </script>\n",
       "    <div style='display: flex; flex-wrap: wrap; justify-content: center;'>\n",
       "            <div id=\"book-0\" class=\"book-wrapper\" onclick=\"toggleFlip('book-0')\">\n",
       "                <div class=\"book-3d-container\">\n",
       "                    <div class=\"book-card\">\n",
       "                        <div class=\"book-inner\">\n",
       "                            <div class=\"book-front\" style=\"\n",
       "                                background: linear-gradient(rgba(255,255,255,0.75), rgba(255,255,255,0.75)),\n",
       "                                url('../_static/images/ReZero.jpg') no-repeat center center;\n",
       "                                background-size: cover;\n",
       "                                border-left: 6px solid #2ecc71;\n",
       "                                padding: 15px 20px;\n",
       "                                \">\n",
       "\n",
       "                                <h3 style=\"margin-top: 0; font-family: 'Playfair Display', serif; font-size: 20px; color: #2c3e50;\">Re:Zero</h3>\n",
       "                                <p style=\"margin: 4px 0; color : #585858;\"><strong>Author:</strong> Tappei Nagatsuki</p>\n",
       "                                <p style=\"margin: 4px 0; color : #585858;\">\n",
       "                                    <strong>Status:</strong> <span style=\"color: #2ecc71; font-weight: bold;\">Available</span>\n",
       "                                </p>\n",
       "                                <div style=\"background-color: #e0e0e0; border-radius: 5px; height: 14px; width: 100%; margin-top: 10px;\">\n",
       "                                    <div style=\"\n",
       "                                        background-color: #2ecc71;\n",
       "                                        height: 100%;\n",
       "                                        border-radius: 5px;\n",
       "                                        width: 40.0%;\n",
       "                                        transition: width 0.3s;\n",
       "                                    \"></div>\n",
       "                                </div>\n",
       "                                <p style=\"text-align: right; font-size: 0.9em; color: #555; margin-top: 6px;\">\n",
       "                                    <strong>4 copy/copies</strong>\n",
       "                                </p>\n",
       "                            </div>\n",
       "                            <div class=\"book-back\" style=\"\n",
       "                                background-color: #fdfdfd;\n",
       "                                border-left: 6px solid #2ecc71;\n",
       "                                \">\n",
       "                                <h3 style=\"margin-top: 0; font-family: 'Playfair Display', serif; color: #2c3e50;\">Re:Zero</h3>\n",
       "                                <p style=\"color: #444;\"><strong>Description:</strong></p>\n",
       "                                <p style=\"color: #555; font-size: 0.95em; line-height: 1.4em;\">\n",
       "                                    Subaru is suddenly transported to a fantasy world where he discovers a terrifying power: every time he dies, he returns to a specific point in time.\n",
       "                                </p>\n",
       "                                <p style=\"color: #888; text-align: right; position: absolute; bottom: 10px; right: 10px; font-family: 'Roboto', sans-serif; font-size: 13px;\">\n",
       "                                    ~ Tappei Nagatsuki\n",
       "                                </p>\n",
       "                            </div>\n",
       "                        </div>\n",
       "                    </div>\n",
       "                </div>\n",
       "            </div>\n",
       "            \n",
       "            <div id=\"book-1\" class=\"book-wrapper\" onclick=\"toggleFlip('book-1')\">\n",
       "                <div class=\"book-3d-container\">\n",
       "                    <div class=\"book-card\">\n",
       "                        <div class=\"book-inner\">\n",
       "                            <div class=\"book-front\" style=\"\n",
       "                                background: linear-gradient(rgba(255,255,255,0.75), rgba(255,255,255,0.75)),\n",
       "                                url('../_static/images/Makeine Too Many Losing Heroines!.jpg') no-repeat center center;\n",
       "                                background-size: cover;\n",
       "                                border-left: 6px solid #e74c3c;\n",
       "                                padding: 15px 20px;\n",
       "                                \">\n",
       "\n",
       "                                <h3 style=\"margin-top: 0; font-family: 'Playfair Display', serif; font-size: 20px; color: #2c3e50;\">Makeine: Too Many Losing Heroines!</h3>\n",
       "                                <p style=\"margin: 4px 0; color : #585858;\"><strong>Author:</strong> Takibi Amamori</p>\n",
       "                                <p style=\"margin: 4px 0; color : #585858;\">\n",
       "                                    <strong>Status:</strong> <span style=\"color: #e74c3c; font-weight: bold;\">Unavailable</span>\n",
       "                                </p>\n",
       "                                <div style=\"background-color: #e0e0e0; border-radius: 5px; height: 14px; width: 100%; margin-top: 10px;\">\n",
       "                                    <div style=\"\n",
       "                                        background-color: #e74c3c;\n",
       "                                        height: 100%;\n",
       "                                        border-radius: 5px;\n",
       "                                        width: 0.0%;\n",
       "                                        transition: width 0.3s;\n",
       "                                    \"></div>\n",
       "                                </div>\n",
       "                                <p style=\"text-align: right; font-size: 0.9em; color: #555; margin-top: 6px;\">\n",
       "                                    <strong>0 copy/copies</strong>\n",
       "                                </p>\n",
       "                            </div>\n",
       "                            <div class=\"book-back\" style=\"\n",
       "                                background-color: #fceeee;\n",
       "                                border-left: 6px solid #e74c3c;\n",
       "                                \">\n",
       "                                <h3 style=\"margin-top: 0; font-family: 'Playfair Display', serif; color: #2c3e50;\">Makeine: Too Many Losing Heroines!</h3>\n",
       "                                <p style=\"color: #444;\"><strong>Description:</strong></p>\n",
       "                                <p style=\"color: #555; font-size: 0.95em; line-height: 1.4em;\">\n",
       "                                    Kazuhiko finds himself caught in a bizarre romantic comedy where all the girls around him are doomed to be 'losing heroines' in love.\n",
       "                                </p>\n",
       "                                <p style=\"color: #888; text-align: right; position: absolute; bottom: 10px; right: 10px; font-family: 'Roboto', sans-serif; font-size: 13px;\">\n",
       "                                    ~ Takibi Amamori\n",
       "                                </p>\n",
       "                            </div>\n",
       "                        </div>\n",
       "                    </div>\n",
       "                </div>\n",
       "            </div>\n",
       "            \n",
       "            <div id=\"book-2\" class=\"book-wrapper\" onclick=\"toggleFlip('book-2')\">\n",
       "                <div class=\"book-3d-container\">\n",
       "                    <div class=\"book-card\">\n",
       "                        <div class=\"book-inner\">\n",
       "                            <div class=\"book-front\" style=\"\n",
       "                                background: linear-gradient(rgba(255,255,255,0.75), rgba(255,255,255,0.75)),\n",
       "                                url('../_static/images/Tomodachi Game.jpg') no-repeat center center;\n",
       "                                background-size: cover;\n",
       "                                border-left: 6px solid #2ecc71;\n",
       "                                padding: 15px 20px;\n",
       "                                \">\n",
       "\n",
       "                                <h3 style=\"margin-top: 0; font-family: 'Playfair Display', serif; font-size: 20px; color: #2c3e50;\">Tomodachi Game</h3>\n",
       "                                <p style=\"margin: 4px 0; color : #585858;\"><strong>Author:</strong> Mikoto Yamaguchi</p>\n",
       "                                <p style=\"margin: 4px 0; color : #585858;\">\n",
       "                                    <strong>Status:</strong> <span style=\"color: #2ecc71; font-weight: bold;\">Available</span>\n",
       "                                </p>\n",
       "                                <div style=\"background-color: #e0e0e0; border-radius: 5px; height: 14px; width: 100%; margin-top: 10px;\">\n",
       "                                    <div style=\"\n",
       "                                        background-color: #2ecc71;\n",
       "                                        height: 100%;\n",
       "                                        border-radius: 5px;\n",
       "                                        width: 20.0%;\n",
       "                                        transition: width 0.3s;\n",
       "                                    \"></div>\n",
       "                                </div>\n",
       "                                <p style=\"text-align: right; font-size: 0.9em; color: #555; margin-top: 6px;\">\n",
       "                                    <strong>2 copy/copies</strong>\n",
       "                                </p>\n",
       "                            </div>\n",
       "                            <div class=\"book-back\" style=\"\n",
       "                                background-color: #fdfdfd;\n",
       "                                border-left: 6px solid #2ecc71;\n",
       "                                \">\n",
       "                                <h3 style=\"margin-top: 0; font-family: 'Playfair Display', serif; color: #2c3e50;\">Tomodachi Game</h3>\n",
       "                                <p style=\"color: #444;\"><strong>Description:</strong></p>\n",
       "                                <p style=\"color: #555; font-size: 0.95em; line-height: 1.4em;\">\n",
       "                                    Yuuichi and his friends are thrown into a mysterious game that tests the strength of their bonds through deception, betrayal, and money.\n",
       "                                </p>\n",
       "                                <p style=\"color: #888; text-align: right; position: absolute; bottom: 10px; right: 10px; font-family: 'Roboto', sans-serif; font-size: 13px;\">\n",
       "                                    ~ Mikoto Yamaguchi\n",
       "                                </p>\n",
       "                            </div>\n",
       "                        </div>\n",
       "                    </div>\n",
       "                </div>\n",
       "            </div>\n",
       "            \n",
       "            <div id=\"book-3\" class=\"book-wrapper\" onclick=\"toggleFlip('book-3')\">\n",
       "                <div class=\"book-3d-container\">\n",
       "                    <div class=\"book-card\">\n",
       "                        <div class=\"book-inner\">\n",
       "                            <div class=\"book-front\" style=\"\n",
       "                                background: linear-gradient(rgba(255,255,255,0.75), rgba(255,255,255,0.75)),\n",
       "                                url('../_static/images/Summer Time Rendering.jpg') no-repeat center center;\n",
       "                                background-size: cover;\n",
       "                                border-left: 6px solid #2ecc71;\n",
       "                                padding: 15px 20px;\n",
       "                                \">\n",
       "\n",
       "                                <h3 style=\"margin-top: 0; font-family: 'Playfair Display', serif; font-size: 20px; color: #2c3e50;\">Summer Time Rendering</h3>\n",
       "                                <p style=\"margin: 4px 0; color : #585858;\"><strong>Author:</strong> Yasuki Tanaka</p>\n",
       "                                <p style=\"margin: 4px 0; color : #585858;\">\n",
       "                                    <strong>Status:</strong> <span style=\"color: #2ecc71; font-weight: bold;\">Available</span>\n",
       "                                </p>\n",
       "                                <div style=\"background-color: #e0e0e0; border-radius: 5px; height: 14px; width: 100%; margin-top: 10px;\">\n",
       "                                    <div style=\"\n",
       "                                        background-color: #2ecc71;\n",
       "                                        height: 100%;\n",
       "                                        border-radius: 5px;\n",
       "                                        width: 30.0%;\n",
       "                                        transition: width 0.3s;\n",
       "                                    \"></div>\n",
       "                                </div>\n",
       "                                <p style=\"text-align: right; font-size: 0.9em; color: #555; margin-top: 6px;\">\n",
       "                                    <strong>3 copy/copies</strong>\n",
       "                                </p>\n",
       "                            </div>\n",
       "                            <div class=\"book-back\" style=\"\n",
       "                                background-color: #fdfdfd;\n",
       "                                border-left: 6px solid #2ecc71;\n",
       "                                \">\n",
       "                                <h3 style=\"margin-top: 0; font-family: 'Playfair Display', serif; color: #2c3e50;\">Summer Time Rendering</h3>\n",
       "                                <p style=\"color: #444;\"><strong>Description:</strong></p>\n",
       "                                <p style=\"color: #555; font-size: 0.95em; line-height: 1.4em;\">\n",
       "                                    Shinpei returns to his island hometown for a friend’s funeral, only to discover dark forces at play and a time loop that could change everything.\n",
       "                                </p>\n",
       "                                <p style=\"color: #888; text-align: right; position: absolute; bottom: 10px; right: 10px; font-family: 'Roboto', sans-serif; font-size: 13px;\">\n",
       "                                    ~ Yasuki Tanaka\n",
       "                                </p>\n",
       "                            </div>\n",
       "                        </div>\n",
       "                    </div>\n",
       "                </div>\n",
       "            </div>\n",
       "            \n",
       "            <div id=\"book-4\" class=\"book-wrapper\" onclick=\"toggleFlip('book-4')\">\n",
       "                <div class=\"book-3d-container\">\n",
       "                    <div class=\"book-card\">\n",
       "                        <div class=\"book-inner\">\n",
       "                            <div class=\"book-front\" style=\"\n",
       "                                background: linear-gradient(rgba(255,255,255,0.75), rgba(255,255,255,0.75)),\n",
       "                                url('../_static/images/Go-Toubun no Hanayome.jpg') no-repeat center center;\n",
       "                                background-size: cover;\n",
       "                                border-left: 6px solid #2ecc71;\n",
       "                                padding: 15px 20px;\n",
       "                                \">\n",
       "\n",
       "                                <h3 style=\"margin-top: 0; font-family: 'Playfair Display', serif; font-size: 20px; color: #2c3e50;\">Go-Toubun no Hanayome</h3>\n",
       "                                <p style=\"margin: 4px 0; color : #585858;\"><strong>Author:</strong> Negi Haruba</p>\n",
       "                                <p style=\"margin: 4px 0; color : #585858;\">\n",
       "                                    <strong>Status:</strong> <span style=\"color: #2ecc71; font-weight: bold;\">Available</span>\n",
       "                                </p>\n",
       "                                <div style=\"background-color: #e0e0e0; border-radius: 5px; height: 14px; width: 100%; margin-top: 10px;\">\n",
       "                                    <div style=\"\n",
       "                                        background-color: #2ecc71;\n",
       "                                        height: 100%;\n",
       "                                        border-radius: 5px;\n",
       "                                        width: 60.0%;\n",
       "                                        transition: width 0.3s;\n",
       "                                    \"></div>\n",
       "                                </div>\n",
       "                                <p style=\"text-align: right; font-size: 0.9em; color: #555; margin-top: 6px;\">\n",
       "                                    <strong>6 copy/copies</strong>\n",
       "                                </p>\n",
       "                            </div>\n",
       "                            <div class=\"book-back\" style=\"\n",
       "                                background-color: #fdfdfd;\n",
       "                                border-left: 6px solid #2ecc71;\n",
       "                                \">\n",
       "                                <h3 style=\"margin-top: 0; font-family: 'Playfair Display', serif; color: #2c3e50;\">Go-Toubun no Hanayome</h3>\n",
       "                                <p style=\"color: #444;\"><strong>Description:</strong></p>\n",
       "                                <p style=\"color: #555; font-size: 0.95em; line-height: 1.4em;\">\n",
       "                                    Fuutarou, a top student, becomes the private tutor of five wealthy quintuplets who all hate studying — and might just fall in love with him.\n",
       "                                </p>\n",
       "                                <p style=\"color: #888; text-align: right; position: absolute; bottom: 10px; right: 10px; font-family: 'Roboto', sans-serif; font-size: 13px;\">\n",
       "                                    ~ Negi Haruba\n",
       "                                </p>\n",
       "                            </div>\n",
       "                        </div>\n",
       "                    </div>\n",
       "                </div>\n",
       "            </div>\n",
       "            </div></div>"
      ],
      "text/plain": [
       "<IPython.core.display.HTML object>"
      ]
     },
     "metadata": {},
     "output_type": "display_data"
    }
   ],
   "source": [
    "from IPython.display import display, HTML\n",
    "\n",
    "def visualize_books(library):\n",
    "    html = f\"\"\"\n",
    "    <div style='font-family: \"Roboto\", sans-serif; background-color: #f5f5f5; padding: 20px; border-radius: 8px; max-width: 1200px; margin: 0 auto;'>\n",
    "        <link href=\"https://fonts.googleapis.com/css2?family=Playfair+Display:wght@600&family=Roboto&display=swap\" rel=\"stylesheet\">\n",
    "        \n",
    "        <h1 style='font-family: \"Playfair Display\", serif; color:#1e3d59; text-align: center; margin-bottom: 25px; font-size: 36px;'>📚 {library.name}</h1>\n",
    "        \n",
    "        <style>\n",
    "            .book-wrapper {{\n",
    "                display: inline-block;\n",
    "                margin: 15px;\n",
    "                vertical-align: top;\n",
    "            }}\n",
    "            \n",
    "            .book-card {{\n",
    "                position: relative;\n",
    "                height: 300px;\n",
    "                width: 300px;\n",
    "                transform-origin: center center;\n",
    "                transition: all 0.3s ease;\n",
    "                cursor: pointer;\n",
    "            }}\n",
    "            \n",
    "            .book-wrapper:hover .book-card {{\n",
    "                transform: translateY(-8px);\n",
    "            }}\n",
    "            \n",
    "            .book-inner {{\n",
    "                position: relative;\n",
    "                width: 100%;\n",
    "                height: 100%;\n",
    "                transition: transform 0.8s;\n",
    "                transform-style: preserve-3d;\n",
    "            }}\n",
    "            \n",
    "            .book-wrapper.flipped .book-inner {{\n",
    "                transform: rotateY(180deg);\n",
    "            }}\n",
    "            \n",
    "            .book-front, .book-back {{\n",
    "                position: absolute;\n",
    "                width: 100%;\n",
    "                height: 100%;\n",
    "                top: 0;\n",
    "                left: 0;\n",
    "                border-radius: 12px;\n",
    "                backface-visibility: hidden;\n",
    "                box-shadow: 0 4px 8px rgba(0, 0, 0, 0.05);\n",
    "                font-family: \"Roboto\", sans-serif;\n",
    "            }}\n",
    "            \n",
    "            .book-wrapper:hover .book-front,\n",
    "            .book-wrapper:hover .book-back {{\n",
    "                box-shadow: 0 12px 20px rgba(0, 0, 0, 0.15);\n",
    "            }}\n",
    "            \n",
    "            .book-back {{\n",
    "                transform: rotateY(180deg);\n",
    "                padding: 15px 20px;\n",
    "                overflow-y: auto;\n",
    "            }}\n",
    "            \n",
    "            .book-3d-container {{\n",
    "                perspective: 1000px;\n",
    "            }}\n",
    "        </style>\n",
    "        <script>\n",
    "            function toggleFlip(id) {{\n",
    "                document.getElementById(id).classList.toggle('flipped');\n",
    "            }}\n",
    "        </script>\n",
    "    \"\"\"\n",
    "\n",
    "    if not library.books:\n",
    "        html += \"<p style='color: #e74c3c; font-weight: bold;'>No books available.</p>\"\n",
    "    else:\n",
    "        html += \"<div style='display: flex; flex-wrap: wrap; justify-content: center;'>\"\n",
    "\n",
    "        for i, book in enumerate(library.books):\n",
    "            book_id = f\"book-{i}\"\n",
    "            progress = min(book['copies'] / 10, 1) * 100\n",
    "            is_available = book['copies'] > 0\n",
    "            color = \"#2ecc71\" if is_available else \"#e74c3c\"\n",
    "            status = \"Available\" if is_available else \"Unavailable\"\n",
    "            bg_card = \"#fdfdfd\" if is_available else \"#fceeee\"\n",
    "\n",
    "            html += f\"\"\"\n",
    "            <div id=\"{book_id}\" class=\"book-wrapper\" onclick=\"toggleFlip('{book_id}')\">\n",
    "                <div class=\"book-3d-container\">\n",
    "                    <div class=\"book-card\">\n",
    "                        <div class=\"book-inner\">\n",
    "                            <div class=\"book-front\" style=\"\n",
    "                                background: linear-gradient(rgba(255,255,255,0.75), rgba(255,255,255,0.75)),\n",
    "                                url('../_static/images/{book['title'].replace(\":\", \"\")}.jpg') no-repeat center center;\n",
    "                                background-size: cover;\n",
    "                                border-left: 6px solid {color};\n",
    "                                padding: 15px 20px;\n",
    "                                \">\n",
    "\n",
    "                                <h3 style=\"margin-top: 0; font-family: 'Playfair Display', serif; font-size: 20px; color: #2c3e50;\">{book['title']}</h3>\n",
    "                                <p style=\"margin: 4px 0; color : #585858;\"><strong>Author:</strong> {book['author']}</p>\n",
    "                                <p style=\"margin: 4px 0; color : #585858;\">\n",
    "                                    <strong>Status:</strong> <span style=\"color: {color}; font-weight: bold;\">{status}</span>\n",
    "                                </p>\n",
    "                                <div style=\"background-color: #e0e0e0; border-radius: 5px; height: 14px; width: 100%; margin-top: 10px;\">\n",
    "                                    <div style=\"\n",
    "                                        background-color: {color};\n",
    "                                        height: 100%;\n",
    "                                        border-radius: 5px;\n",
    "                                        width: {progress}%;\n",
    "                                        transition: width 0.3s;\n",
    "                                    \"></div>\n",
    "                                </div>\n",
    "                                <p style=\"text-align: right; font-size: 0.9em; color: #555; margin-top: 6px;\">\n",
    "                                    <strong>{book['copies']} copy/copies</strong>\n",
    "                                </p>\n",
    "                            </div>\n",
    "                            <div class=\"book-back\" style=\"\n",
    "                                background-color: {bg_card};\n",
    "                                border-left: 6px solid {color};\n",
    "                                \">\n",
    "                                <h3 style=\"margin-top: 0; font-family: 'Playfair Display', serif; color: #2c3e50;\">{book['title']}</h3>\n",
    "                                <p style=\"color: #444;\"><strong>Description:</strong></p>\n",
    "                                <p style=\"color: #555; font-size: 0.95em; line-height: 1.4em;\">\n",
    "                                    {book.get('description', 'No description available for this book.')}\n",
    "                                </p>\n",
    "                                <p style=\"color: #888; text-align: right; position: absolute; bottom: 10px; right: 10px; font-family: 'Roboto', sans-serif; font-size: 13px;\">\n",
    "                                    ~ {book['author']}\n",
    "                                </p>\n",
    "                            </div>\n",
    "                        </div>\n",
    "                    </div>\n",
    "                </div>\n",
    "            </div>\n",
    "            \"\"\"\n",
    "        html += \"</div>\"\n",
    "\n",
    "    html += \"</div>\"\n",
    "    display(HTML(html))\n",
    "\n",
    "\n",
    "\n",
    "visualize_books(library)\n"
   ]
  }
 ],
 "metadata": {
  "colab": {
   "provenance": []
  },
  "kernelspec": {
   "display_name": "Python 3",
   "name": "python3"
  },
  "language_info": {
   "codemirror_mode": {
    "name": "ipython",
    "version": 3
   },
   "file_extension": ".py",
   "mimetype": "text/x-python",
   "name": "python",
   "nbconvert_exporter": "python",
   "pygments_lexer": "ipython3",
   "version": "3.12.9"
  }
 },
 "nbformat": 4,
 "nbformat_minor": 0
}
